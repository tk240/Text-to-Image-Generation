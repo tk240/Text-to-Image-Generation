{
 "cells": [
  {
   "cell_type": "code",
   "execution_count": null,
   "metadata": {
    "id": "HAGoFjvGZJ6s"
   },
   "outputs": [],
   "source": [
    "from PIL import Image\n",
    "from IPython.display import display\n",
    "import torch as th\n",
    "from imagen_pytorch.model_creation import create_model_and_diffusion as create_model_and_diffusion_dalle2\n",
    "from imagen_pytorch.model_creation import model_and_diffusion_defaults as model_and_diffusion_defaults_dalle2\n",
    "from transformers import AutoTokenizer\n",
    "import cv2\n",
    "\n",
    "import glob\n",
    "import os\n",
    "from basicsr.archs.rrdbnet_arch import RRDBNet\n",
    "from realesrgan import RealESRGANer\n",
    "from realesrgan.archs.srvgg_arch import SRVGGNetCompact\n",
    "from gfpgan import GFPGANer\n",
    "#import gfpgan\n",
    "\n",
    "has_cuda = th.cuda.is_available()\n",
    "device = th.device('cpu' if not has_cuda else 'cuda')"
   ]
  },
  {
   "cell_type": "code",
   "execution_count": null,
   "metadata": {},
   "outputs": [],
   "source": [
    "device = th.device('cpu')"
   ]
  },
  {
   "cell_type": "code",
   "execution_count": null,
   "metadata": {},
   "outputs": [],
   "source": [
    "has_cuda"
   ]
  },
  {
   "cell_type": "code",
   "execution_count": null,
   "metadata": {
    "id": "4mb_yMM-JcVY"
   },
   "outputs": [],
   "source": [
    "#Device config to adjust code for whether using CUDA or not\n",
    "device_config = {\n",
    "    \"map_location\": \"cpu\" if not has_cuda else None,\n",
    "    \"use_half\": True if has_cuda else False,\n",
    "    \"device_name\": \"cuda\" if has_cuda else \"cpu\"\n",
    "}"
   ]
  },
  {
   "cell_type": "code",
   "execution_count": null,
   "metadata": {
    "id": "Kp6HRM1vdFZq"
   },
   "outputs": [],
   "source": [
    "def model_fn(x_t, ts, **kwargs):\n",
    "    guidance_scale = 5\n",
    "    half = x_t[: len(x_t) // 2]\n",
    "    combined = th.cat([half, half], dim=0)\n",
    "    model_out = model(combined, ts, **kwargs)\n",
    "    eps, rest = model_out[:, :3], model_out[:, 3:]\n",
    "    cond_eps, uncond_eps = th.split(eps, len(eps) // 2, dim=0)\n",
    "    half_eps = uncond_eps + guidance_scale * (cond_eps - uncond_eps)\n",
    "    eps = th.cat([half_eps, half_eps], dim=0)\n",
    "    return th.cat([eps, rest], dim=1)"
   ]
  },
  {
   "cell_type": "code",
   "execution_count": null,
   "metadata": {
    "id": "RyQgjL0OdMeu"
   },
   "outputs": [],
   "source": [
    "def show_images(batch: th.Tensor):\n",
    "    \"\"\" Display a batch of images inline.\"\"\"\n",
    "    scaled = ((batch + 1)*127.5).round().clamp(0,255).to(th.uint8).cpu()\n",
    "    reshaped = scaled.permute(2, 0, 3, 1).reshape([batch.shape[2], -1, 3])\n",
    "    display(Image.fromarray(reshaped.numpy()))"
   ]
  },
  {
   "cell_type": "code",
   "execution_count": null,
   "metadata": {
    "id": "rVHdkvoGPqJJ"
   },
   "outputs": [],
   "source": [
    "def get_numpy_img(img):\n",
    "    scaled = ((img + 1)*127.5).round().clamp(0,255).to(th.uint8).cpu()\n",
    "    reshaped = scaled.permute(2, 0, 3, 1).reshape([img.shape[2], -1, 3])\n",
    "    return cv2.cvtColor(reshaped.numpy(), cv2.COLOR_BGR2RGB)"
   ]
  },
  {
   "cell_type": "code",
   "execution_count": null,
   "metadata": {
    "id": "qhKnHPtJZCL_"
   },
   "outputs": [],
   "source": [
    "def _fix_path(path):\n",
    "    d = th.load(path, map_location=device_config[\"map_location\"])\n",
    "    checkpoint = {}\n",
    "    for key in d.keys():\n",
    "        checkpoint[key.replace('module.','')] = d[key]\n",
    "    return checkpoint"
   ]
  },
  {
   "cell_type": "code",
   "execution_count": null,
   "metadata": {},
   "outputs": [],
   "source": []
  },
  {
   "cell_type": "code",
   "execution_count": null,
   "metadata": {
    "id": "veXmk5XTZOuy"
   },
   "outputs": [],
   "source": [
    "options = model_and_diffusion_defaults_dalle2()\n",
    "options['use_fp16'] = False\n",
    "options['diffusion_steps'] = 200\n",
    "options['num_res_blocks'] = 3\n",
    "options['t5_name'] = 't5-3b'\n",
    "options['cache_text_emb'] = True\n",
    "model, diffusion = create_model_and_diffusion_dalle2(**options)\n",
    "\n",
    "model.eval()\n",
    "\n",
    "#if has_cuda:\n",
    "#    model.convert_to_fp16()\n",
    "\n",
    "model.to(device)"
   ]
  },
  {
   "cell_type": "code",
   "execution_count": null,
   "metadata": {
    "id": "dtqqsCzzaPzo"
   },
   "outputs": [],
   "source": [
    "model.load_state_dict(_fix_path(r\"C:\\Users\\onuru\\EEE443\\Final_project\\model.pt\"))\n",
    "print('total base parameters', sum(x.numel() for x in model.parameters()))"
   ]
  },
  {
   "cell_type": "code",
   "execution_count": null,
   "metadata": {
    "id": "_mdhjDRmejr5"
   },
   "outputs": [],
   "source": [
    "num_params = sum(param.numel() for param in model.parameters())\n",
    "num_params"
   ]
  },
  {
   "cell_type": "code",
   "execution_count": null,
   "metadata": {
    "id": "4oDZRKP_NcV0"
   },
   "outputs": [],
   "source": [
    "realesrgan_model = RRDBNet(num_in_ch=3, num_out_ch=3, num_feat=64,\n",
    "                           num_block=23, num_grow_ch=32, scale=4)"
   ]
  },
  {
   "cell_type": "code",
   "execution_count": null,
   "metadata": {
    "id": "BFl4yR5ONtil"
   },
   "outputs": [],
   "source": [
    "netscale = 4"
   ]
  },
  {
   "cell_type": "code",
   "execution_count": null,
   "metadata": {
    "id": "Vwy6nPleNuUN"
   },
   "outputs": [],
   "source": [
    "upsampler = RealESRGANer(\n",
    "    scale=netscale,\n",
    "    model_path=r\"C:\\Users\\onuru\\EEE443\\Final_project\\Real-ESRGANRealESRGAN_x4plus.pth\",\n",
    "    model=realesrgan_model,\n",
    "    tile=0,\n",
    "    tile_pad=10,\n",
    "    pre_pad=0,\n",
    "    half=device_config[\"use_half\"]\n",
    ")"
   ]
  },
  {
   "cell_type": "code",
   "execution_count": null,
   "metadata": {
    "id": "P_PiM5y5PHCe"
   },
   "outputs": [],
   "source": [
    "face_enhancer = GFPGANer(\n",
    "    model_path='https://github.com/TencentARC/GFPGAN/releases/download/v1.3.0/GFPGANv1.3.pth',\n",
    "    upscale=4,\n",
    "    arch='clean',\n",
    "    channel_multiplier=2,\n",
    "    bg_upsampler=upsampler\n",
    ")"
   ]
  },
  {
   "cell_type": "code",
   "execution_count": null,
   "metadata": {
    "id": "ilBtcMcGcUSZ"
   },
   "outputs": [],
   "source": [
    "tokenizer = AutoTokenizer.from_pretrained(options['t5_name'])"
   ]
  },
  {
   "cell_type": "code",
   "execution_count": null,
   "metadata": {
    "id": "I1E6jjzhvV40"
   },
   "outputs": [],
   "source": [
    "prompt = 'a pear on a chair'"
   ]
  },
  {
   "cell_type": "code",
   "execution_count": null,
   "metadata": {
    "id": "h3FFIeLrcuTX"
   },
   "outputs": [],
   "source": [
    "text_encoding = tokenizer(\n",
    "    prompt,\n",
    "    max_length=128,\n",
    "    padding=\"max_length\",\n",
    "    truncation=True,\n",
    "    return_attention_mask=True,\n",
    "    add_special_tokens=True,\n",
    "    return_tensors=\"pt\"\n",
    ")\n",
    "\n",
    "uncond_text_encoding = tokenizer(\n",
    "    '',\n",
    "    max_length=128,\n",
    "    padding=\"max_length\",\n",
    "    truncation=True,\n",
    "    return_attention_mask=True,\n",
    "    add_special_tokens=True,\n",
    "    return_tensors=\"pt\"\n",
    ")"
   ]
  },
  {
   "cell_type": "code",
   "execution_count": null,
   "metadata": {
    "id": "1Imtn9DVZD99"
   },
   "outputs": [],
   "source": [
    "import numpy as np\n",
    "batch_size = 1\n",
    "cond_tokens = th.from_numpy(np.array([text_encoding['input_ids'][0].numpy() for i in range(batch_size)]))\n",
    "uncond_tokens = th.from_numpy(np.array([uncond_text_encoding['input_ids'][0].numpy() for i in range(batch_size)]))\n",
    "cond_attention_mask = th.from_numpy(np.array([text_encoding['attention_mask'][0].numpy() for i in range(batch_size)]))\n",
    "uncond_attention_mask = th.from_numpy(np.array([uncond_text_encoding['attention_mask'][0].numpy() for i in range(batch_size)]))\n",
    "model_kwargs = {}\n",
    "model_kwargs[\"tokens\"] = th.cat((cond_tokens,\n",
    "                                 uncond_tokens)).to(device)\n",
    "model_kwargs[\"mask\"] = th.cat((cond_attention_mask,\n",
    "                               uncond_attention_mask)).to(device)"
   ]
  },
  {
   "cell_type": "code",
   "execution_count": null,
   "metadata": {
    "id": "D-4GzOBadCbj"
   },
   "outputs": [],
   "source": [
    "model.del_cache()\n",
    "\n",
    "sample = diffusion.p_sample_loop(\n",
    "    model_fn,\n",
    "    (batch_size * 2, 3, 64, 64),\n",
    "    clip_denoised=True,\n",
    "    model_kwargs=model_kwargs,\n",
    "    device=device_config[\"device_name\"],\n",
    "    progress=True,\n",
    ")[:batch_size]\n",
    "\n",
    "model.del_cache()"
   ]
  },
  {
   "cell_type": "code",
   "execution_count": null,
   "metadata": {
    "id": "hvsr_S-xMwyG"
   },
   "outputs": [],
   "source": [
    "show_images(sample)"
   ]
  },
  {
   "cell_type": "code",
   "execution_count": null,
   "metadata": {
    "id": "lsYwSFrE6zrJ"
   },
   "outputs": [],
   "source": [
    "for i in sample:\n",
    "    show_images(i.unsqueeze(0))"
   ]
  },
  {
   "cell_type": "code",
   "execution_count": null,
   "metadata": {
    "id": "h4hoHPBw2DQh"
   },
   "outputs": [],
   "source": [
    "new_img = get_numpy_img(sample)"
   ]
  },
  {
   "cell_type": "code",
   "execution_count": null,
   "metadata": {
    "id": "VAHtiUiyPZWg"
   },
   "outputs": [],
   "source": [
    "#%%time\n",
    "for j in range(batch_size):\n",
    "    new_img = get_numpy_img(sample[j].unsqueeze(0))\n",
    "\n",
    "    if not has_cuda:\n",
    "        new_img = new_img.astype(np.float32)\n",
    "    for i in range(1):\n",
    "        _, _, new_img = face_enhancer.enhance(new_img, has_aligned=False,\n",
    "                                              only_center_face=False, paste_back=True)\n",
    "        cv2.imwrite(r'./generations/test_out{j}.jpg', new_img)"
   ]
  },
  {
   "cell_type": "code",
   "execution_count": null,
   "metadata": {
    "id": "8pPuD3xgqCE0"
   },
   "outputs": [],
   "source": []
  }
 ],
 "metadata": {
  "colab": {
   "machine_shape": "hm",
   "private_outputs": true,
   "provenance": []
  },
  "kernelspec": {
   "display_name": "Python 3",
   "language": "python",
   "name": "python3"
  },
  "language_info": {
   "codemirror_mode": {
    "name": "ipython",
    "version": 3
   },
   "file_extension": ".py",
   "mimetype": "text/x-python",
   "name": "python",
   "nbconvert_exporter": "python",
   "pygments_lexer": "ipython3",
   "version": "3.7.10"
  }
 },
 "nbformat": 4,
 "nbformat_minor": 1
}
