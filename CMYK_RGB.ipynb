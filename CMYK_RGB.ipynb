{
 "cells": [
  {
   "cell_type": "code",
   "execution_count": 1,
   "id": "9cd81db0",
   "metadata": {},
   "outputs": [],
   "source": [
    "import sys\n",
    "import json\n",
    "import jsonlines\n",
    "from PIL import Image"
   ]
  },
  {
   "cell_type": "code",
   "execution_count": 6,
   "id": "3fbd95ae",
   "metadata": {},
   "outputs": [],
   "source": [
    "sys.path += ['data/image_dataset/train_images']"
   ]
  },
  {
   "cell_type": "code",
   "execution_count": 14,
   "id": "63ad54db",
   "metadata": {},
   "outputs": [],
   "source": [
    "data = jsonlines.open(\"data/train_lines.jsonl\", \"r\")\n",
    "for i in data:\n",
    "    path_to_image = i['URL']\n",
    "    image = Image.open(f'data/image_dataset/train_images/{path_to_image}')\n",
    "    if image.mode == 'CMYK':\n",
    "        print('DETECTED CMYK')\n",
    "        image = image.convert('RGB')\n",
    "        image.save(f'data/image_dataset/train_images/{path_to_image}')\n",
    "    "
   ]
  }
 ],
 "metadata": {
  "kernelspec": {
   "display_name": "eee443",
   "language": "python",
   "name": "eee443"
  },
  "language_info": {
   "codemirror_mode": {
    "name": "ipython",
    "version": 3
   },
   "file_extension": ".py",
   "mimetype": "text/x-python",
   "name": "python",
   "nbconvert_exporter": "python",
   "pygments_lexer": "ipython3",
   "version": "3.8.15"
  }
 },
 "nbformat": 4,
 "nbformat_minor": 5
}
